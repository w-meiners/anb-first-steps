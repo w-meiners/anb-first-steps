{
 "cells": [
  {
   "cell_type": "markdown",
   "metadata": {},
   "source": [
    "# Übung"
   ]
  },
  {
   "cell_type": "markdown",
   "metadata": {},
   "source": [
    "Nach DIN 1946-6 sind Türen mit einer Überströmöffnung zu versehen. Das ist erforderlich, damit die Luft auch bei geschlossenen Türen von den Zulufträumen zu den Ablufträumen strömen kann.\n",
    "\n",
    "Die Überströmöffnung wird meist durch Kürzung des Türspalts um einen bestimmten Betrag sichergestellt. Nach DIN 1946-6 ist die folgende Tabelle einzuhalten:\n",
    "\n",
    "Luftmenge<br>Tür mit Dichtung | $\\frac{m^3}{h}$ | 10 | 20 | 30 | 40 | 50 | 60 | 70 | 80 | 90 | 100\n",
    "------------------------------|-----------------|----|----|----|----|----|----|----|----|----|----\n",
    "Überströmfläche               | $cm^2$          | 25 | 50 | 75 | 100|125 |150 |175 |200 | 225| 250\n",
    "Kürzungsmaß                   | $mm$            |  3 |  6 |  8 | 11 | 14 | 17 | 20 | 22 | 25 | 28\n",
    "\n",
    "- Berechnen Sie die lichten Breiten der Tür\n",
    "- berechnen Sie die Strömungsgeschwindigkeiten $v$ der Luft im Türspalt,\n",
    "- stellen Sie die Überströmfläche und das Kürzungsmaß jeweils in einem Diagramm dar, wobei die $x$-Achse der Volumenstrom in $\\frac{m^3}{h}$ ist."
   ]
  },
  {
   "cell_type": "markdown",
   "metadata": {},
   "source": [
    "# Lösung"
   ]
  },
  {
   "cell_type": "code",
   "execution_count": 1,
   "metadata": {},
   "outputs": [
    {
     "data": {
      "text/plain": [
       "[(10, 25, 3),\n",
       " (20, 50, 6),\n",
       " (30, 75, 8),\n",
       " (40, 100, 11),\n",
       " (50, 125, 14),\n",
       " (60, 150, 17),\n",
       " (70, 175, 20),\n",
       " (80, 200, 22),\n",
       " (90, 225, 25),\n",
       " (100, 250, 28)]"
      ]
     },
     "execution_count": 1,
     "metadata": {},
     "output_type": "execute_result"
    }
   ],
   "source": [
    "i_max = 10\n",
    "\n",
    "dV_tuer = [10*(i+1) for i in range(10)]\n",
    "\n",
    "A_tuer = [25*(i+1) for i in range(10)]\n",
    "\n",
    "k_tuer = [3,6,8,11,14,17,20,22,25,28]\n",
    "\n",
    "list(zip(dV_tuer,A_tuer,k_tuer))"
   ]
  },
  {
   "cell_type": "markdown",
   "metadata": {},
   "source": [
    "**Berechnung der lichten Breite der Tür(en):**\n",
    "\n",
    "Die Formel für den Flächeninhalt eines Rechtecks der Länge $a$ und der Breite $b$ lautet:\n",
    "\n",
    "$$\n",
    "  A = a\\,b\n",
    "$$\n",
    "\n",
    "\n",
    "Damit ergibt sich \n",
    "\n",
    "$$\n",
    "  a = \\dfrac{A}{b} = \\dfrac{A\\cdot\\dfrac{100 mm^2}{cm^2}}{b}\n",
    "$$\n",
    "\n"
   ]
  },
  {
   "cell_type": "code",
   "execution_count": 2,
   "metadata": {},
   "outputs": [
    {
     "data": {
      "text/plain": [
       "[(25, 3, 833.3333333333334),\n",
       " (50, 6, 833.3333333333334),\n",
       " (75, 8, 937.5),\n",
       " (100, 11, 909.0909090909091),\n",
       " (125, 14, 892.8571428571429),\n",
       " (150, 17, 882.3529411764706),\n",
       " (175, 20, 875.0),\n",
       " (200, 22, 909.0909090909091),\n",
       " (225, 25, 900.0),\n",
       " (250, 28, 892.8571428571429)]"
      ]
     },
     "execution_count": 2,
     "metadata": {},
     "output_type": "execute_result"
    }
   ],
   "source": [
    "b_tuer = [A*1e2/k for A,k in zip(A_tuer,k_tuer)]\n",
    "\n",
    "list(zip(A_tuer,k_tuer,b_tuer))"
   ]
  },
  {
   "cell_type": "markdown",
   "metadata": {},
   "source": [
    "Die Schwankung der Breiten ist relativ hoch. Es ist davon auszugehen, dass nicht mit völlig unterschiedlichen Breiten für Innentüren gerechnet wurde, sondern dass hier ein Rundungsproblem vorliegt. Geht man von einer Standardinnentür mit einer Breite von 900mm aus, so ergibt sich für die Höhe des Türspaltes auf eine Nachkommastelle gerundet:"
   ]
  },
  {
   "cell_type": "code",
   "execution_count": 3,
   "metadata": {},
   "outputs": [
    {
     "data": {
      "text/plain": [
       "[(2.8, 3),\n",
       " (5.6, 6),\n",
       " (8.3, 8),\n",
       " (11.1, 11),\n",
       " (13.9, 14),\n",
       " (16.7, 17),\n",
       " (19.4, 20),\n",
       " (22.2, 22),\n",
       " (25.0, 25),\n",
       " (27.8, 28)]"
      ]
     },
     "execution_count": 3,
     "metadata": {},
     "output_type": "execute_result"
    }
   ],
   "source": [
    "b = 900 # mm\n",
    "a_tuer = [round(A*1e2/b,1) for A in A_tuer]\n",
    "\n",
    "list(zip(a_tuer,k_tuer))"
   ]
  },
  {
   "cell_type": "markdown",
   "metadata": {},
   "source": [
    "Der Vergleich der berechneten Werte mit den tabellierten Werten stimmt gut überein.\n",
    "\n",
    "Es ist also davon auszugehen, dass die Türbreite 900mm beträgt und die resultierenden Spalthöhen durch runden auf volle mm entstanden sind."
   ]
  },
  {
   "cell_type": "markdown",
   "metadata": {},
   "source": [
    "**Berechnung der Strömungsgeschwindigkeiten im Türspalt**\n",
    "\n",
    "Der Zusammenhang zwischen Volumenstrom und Strömungsgeschwindigkeit lautet\n",
    "\n",
    "\\begin{align}\n",
    "  \\dot V &= A\\,v \\\\[2ex]\n",
    "  v &= \\dfrac{\\dot V}{A} = \\dfrac{\\dot V \\cdot \\dfrac{1\\,h}{3600\\,s}}{A\\cdot\\dfrac{1\\,m^2}{10^4\\,cm^2}}\n",
    "\\end{align}"
   ]
  },
  {
   "cell_type": "code",
   "execution_count": 4,
   "metadata": {},
   "outputs": [
    {
     "data": {
      "text/plain": [
       "[(10, 25, 1.1111111111111112),\n",
       " (20, 50, 1.1111111111111112),\n",
       " (30, 75, 1.1111111111111112),\n",
       " (40, 100, 1.1111111111111112),\n",
       " (50, 125, 1.111111111111111),\n",
       " (60, 150, 1.1111111111111112),\n",
       " (70, 175, 1.111111111111111),\n",
       " (80, 200, 1.1111111111111112),\n",
       " (90, 225, 1.1111111111111112),\n",
       " (100, 250, 1.111111111111111)]"
      ]
     },
     "execution_count": 4,
     "metadata": {},
     "output_type": "execute_result"
    }
   ],
   "source": [
    "v_tuer = [dV/3600/(A/1e4) for dV,A in zip(dV_tuer,A_tuer)]\n",
    "\n",
    "list(zip(dV_tuer,A_tuer,v_tuer))"
   ]
  },
  {
   "cell_type": "markdown",
   "metadata": {},
   "source": [
    "\n",
    "Die Strömungsgeschwindigkeit beträgt konstant etwa $v=1.1\\,\\frac{m}{s}$"
   ]
  },
  {
   "cell_type": "code",
   "execution_count": 5,
   "metadata": {},
   "outputs": [],
   "source": [
    "from matplotlib import pyplot as plt\n",
    "%config InlineBackend.figure_format='retina' # nur MacBook Pro\n",
    "\n",
    "import numpy as np"
   ]
  },
  {
   "cell_type": "code",
   "execution_count": 6,
   "metadata": {},
   "outputs": [
    {
     "data": {
      "text/plain": [
       "[None, None]"
      ]
     },
     "execution_count": 6,
     "metadata": {},
     "output_type": "execute_result"
    },
    {
     "data": {
      "image/png": "[encoded data removed]",
      "text/plain": [
       "<Figure size 432x288 with 2 Axes>"
      ]
     },
     "metadata": {
      "image/png": {
       "height": 277,
       "width": 400
      },
      "needs_background": "light"
     },
     "output_type": "display_data"
    }
   ],
   "source": [
    "fig,ax = plt.subplots(nrows=2,sharex=True)\n",
    "\n",
    "ax[0].plot(dV_tuer,A_tuer)\n",
    "ax[1].plot(dV_tuer,k_tuer)\n",
    "\n",
    "ax[0].set(ylim=(0,300),xlim=(10,100),ylabel='Fläche $A$ in $m^2$')\n",
    "ax[1].set(ylim=(0,30),xlim=(10,100),ylabel='Kürzungsmaß $k$ in $mm$',xlabel='Volumenstrom in $\\dfrac{m^3}{h}$')\n",
    "\n",
    "[a.grid() for a in ax]"
   ]
  }
 ],
 "metadata": {
  "kernelspec": {
   "display_name": "python 3.6",
   "language": "python",
   "name": "python36"
  },
  "language_info": {
   "codemirror_mode": {
    "name": "ipython",
    "version": 3
   },
   "file_extension": ".py",
   "mimetype": "text/x-python",
   "name": "python",
   "nbconvert_exporter": "python",
   "pygments_lexer": "ipython3",
   "version": "3.6.8"
  }
 },
 "nbformat": 4,
 "nbformat_minor": 2
}
