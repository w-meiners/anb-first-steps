{
  "cells": [
    {
      "metadata": {},
      "cell_type": "markdown",
      "source": "# Einleitung\n\nJupyter Notebooks sind Textdokumente mit der Endung \".ipynb\", die ursprünglich für IPython Notebook gestanden hat. IPython Notebooks hat es nur für kurze Zeit gegeben, dann wurde der Schritt hin zu den Jupyter Notebooks getan. Jupyter steht dabei für die Programmiersprachen Julia, Python und R.\n\nMittlerweile können nicht nur diese drei Programmiersprachen auf Jupyter Notebooks zugreifen, sondern viele andere. Für nähere Informationen siehe [Jupyter homepage](https://jupyter.org).\n\n"
    },
    {
      "metadata": {},
      "cell_type": "markdown",
      "source": "## Ein einfaches Beispiel\n\nDurch ein Kupferrohr CU 15$\\times$1 strömt Wasser mit einer Geschwindigkeit von $0.75\\,\\frac{\\mathrm{m}}{\\mathrm{s}}$.\n\n### Aufgabe\nBerechnen Sie den Volumenstrom in $\\frac{\\mathrm{m}^3}{\\mathrm{h}}$.\n\n#### Hinweis\nDer Zusammenhang zwischen Volumenstrom, Durchmesser und Strömungsgeschwindigkeit ist durch die Formeln\n\n$$\n  \\dot{V} = A\\cdot v, \n  \\quad\n  \\text{mit der Querschnittsfläche}\n  \\quad A = \\dfrac{\\pi\\,d^2}{4}\n$$\n\ngegeben."
    }
  ],
  "metadata": {
    "kernelspec": {
      "name": "python36",
      "display_name": "Python 3.6",
      "language": "python"
    },
    "language_info": {
      "mimetype": "text/x-python",
      "nbconvert_exporter": "python",
      "name": "python",
      "pygments_lexer": "ipython3",
      "version": "3.6.6",
      "file_extension": ".py",
      "codemirror_mode": {
        "version": 3,
        "name": "ipython"
      }
    }
  },
  "nbformat": 4,
  "nbformat_minor": 1
}