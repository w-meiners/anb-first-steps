{
  "cells": [
    {
      "metadata": {},
      "cell_type": "markdown",
      "source": "# Einleitung\n\nJupyter Notebooks sind Textdokumente mit der Endung \".ipynb\", die ursprünglich für IPython Notebook gestanden hat. IPython Notebooks hat es nur für kurze Zeit gegeben, dass wurde der Schritt hin zu den Jupyter Notebooks getan. Jupyter steht dabei für die Programmiersprachen Julia, Python und R.\n\nMittlerweile können nicht nur diese drei Programmiersprachen auf Jupyter Notebooks zugreifen, sondern viele andere. Für nähere Informationen siehe [Jupyter homepage](https://jupyter.org).\n\n"
    }
  ],
  "metadata": {
    "kernelspec": {
      "name": "python36",
      "display_name": "Python 3.6",
      "language": "python"
    },
    "language_info": {
      "mimetype": "text/x-python",
      "nbconvert_exporter": "python",
      "name": "python",
      "pygments_lexer": "ipython3",
      "version": "3.6.6",
      "file_extension": ".py",
      "codemirror_mode": {
        "version": 3,
        "name": "ipython"
      }
    }
  },
  "nbformat": 4,
  "nbformat_minor": 1
}