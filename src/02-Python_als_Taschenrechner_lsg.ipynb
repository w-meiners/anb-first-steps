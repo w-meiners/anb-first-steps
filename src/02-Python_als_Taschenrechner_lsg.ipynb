{
  "cells": [
    {
      "metadata": {
        "trusted": true
      },
      "cell_type": "code",
      "source": "%autosave 3600",
      "execution_count": 1,
      "outputs": [
        {
          "output_type": "display_data",
          "data": {
            "application/javascript": "IPython.notebook.set_autosave_interval(3600000)"
          },
          "metadata": {}
        },
        {
          "output_type": "stream",
          "text": "Autosaving every 3600 seconds\n",
          "name": "stdout"
        }
      ]
    },
    {
      "metadata": {},
      "cell_type": "markdown",
      "source": "# Erste Beispiele"
    },
    {
      "metadata": {},
      "cell_type": "markdown",
      "source": "## Python als \"Taschenrechner\""
    },
    {
      "metadata": {},
      "cell_type": "markdown",
      "source": "\"Einfache\" Berechnungen können in python direkt durchgeführt werden:"
    },
    {
      "metadata": {
        "trusted": true
      },
      "cell_type": "code",
      "source": "3+4+5",
      "execution_count": 2,
      "outputs": [
        {
          "output_type": "execute_result",
          "execution_count": 2,
          "data": {
            "text/plain": "12"
          },
          "metadata": {}
        }
      ]
    },
    {
      "metadata": {
        "trusted": true
      },
      "cell_type": "code",
      "source": "(22*(3-4)+9)/7",
      "execution_count": 3,
      "outputs": [
        {
          "output_type": "execute_result",
          "execution_count": 3,
          "data": {
            "text/plain": "-1.8571428571428572"
          },
          "metadata": {}
        }
      ]
    },
    {
      "metadata": {},
      "cell_type": "markdown",
      "source": "Das Ergebnis ist ein Dezimalbruch und wird daher -in den meisten Fällen- nicht exakt sein. Während das Ergebnis für praktische Berechnungen -in den meisten Fällen- völlig brauchbar ist, sind exakte mathematische Vergleiche problematisch:"
    },
    {
      "metadata": {},
      "cell_type": "markdown",
      "source": "Für die Durchführung von Rechnungen gilt die Regel \"Punktrechnung vor Strichrechnung\". Falls nötig, sind Klammern zu setzen, vergleichen Sie die Ausgabe von"
    },
    {
      "metadata": {
        "trusted": true
      },
      "cell_type": "code",
      "source": "3*4+5",
      "execution_count": 4,
      "outputs": [
        {
          "output_type": "execute_result",
          "execution_count": 4,
          "data": {
            "text/plain": "17"
          },
          "metadata": {}
        }
      ]
    },
    {
      "metadata": {},
      "cell_type": "markdown",
      "source": "mit"
    },
    {
      "metadata": {
        "trusted": true
      },
      "cell_type": "code",
      "source": "3*(4+5)",
      "execution_count": 5,
      "outputs": [
        {
          "output_type": "execute_result",
          "execution_count": 5,
          "data": {
            "text/plain": "27"
          },
          "metadata": {}
        }
      ]
    },
    {
      "metadata": {},
      "cell_type": "markdown",
      "source": "Genau so, wie die Multiplikation stärker bindet als die Addition, binden Potenzen stärker als Multiplikation:"
    },
    {
      "metadata": {
        "trusted": true
      },
      "cell_type": "code",
      "source": "4*3**2",
      "execution_count": 6,
      "outputs": [
        {
          "output_type": "execute_result",
          "execution_count": 6,
          "data": {
            "text/plain": "36"
          },
          "metadata": {}
        }
      ]
    },
    {
      "metadata": {
        "trusted": true
      },
      "cell_type": "code",
      "source": "(4*3)**2",
      "execution_count": 7,
      "outputs": [
        {
          "output_type": "execute_result",
          "execution_count": 7,
          "data": {
            "text/plain": "144"
          },
          "metadata": {}
        }
      ]
    },
    {
      "metadata": {},
      "cell_type": "markdown",
      "source": "Besonderes Augenmerk muss man auf negative Zahlen legen, hier ist\n\n$$ -a = (-1)\\cdot a. $$\n\nDas bedeutet insbesondere, dass\n\n$$ -a^2 = (-1)\\cdot a^2 $$\n\nist, wogegen\n\n$$ (-a)^2 = ((-1)\\cdot(a))^2 = a^2 $$\n\nist. Man muss also zwischen **dem negativen einer Quadratzahl** und **dem Quadrat einer negativen Zahl** unterscheiden."
    },
    {
      "metadata": {},
      "cell_type": "markdown",
      "source": "Vorsicht muss man bei Vergleichen von Rechenergebnissen walten lassen. So ist:"
    },
    {
      "metadata": {
        "trusted": true
      },
      "cell_type": "code",
      "source": "0.1 + 0.1 + 0.1 + 0.1 == 0.4",
      "execution_count": 8,
      "outputs": [
        {
          "output_type": "execute_result",
          "execution_count": 8,
          "data": {
            "text/plain": "True"
          },
          "metadata": {}
        }
      ]
    },
    {
      "metadata": {},
      "cell_type": "markdown",
      "source": "aber:"
    },
    {
      "metadata": {
        "trusted": true
      },
      "cell_type": "code",
      "source": "0.1 + 0.1 + 0.1 == 0.3",
      "execution_count": 9,
      "outputs": [
        {
          "output_type": "execute_result",
          "execution_count": 9,
          "data": {
            "text/plain": "False"
          },
          "metadata": {}
        }
      ]
    },
    {
      "metadata": {},
      "cell_type": "markdown",
      "source": "Der Grund dafür ist im Prinzip sehr einfach, aber meist nur schwer zu erkennen. Im Computer lassen sich Zahlen in der Regel nicht exakt darstellen. Das Prinzip ist von den Bruchzahlen bekannt:\n\n$$\n  \\dfrac{1}{3} = 0.333\\cdots\n$$\n\nDie Bruchzahl $\\dfrac{1}{3}$ lässt sich als Dezimalbruch nicht exakt darstellen. Die Rechenvorschrift zur Berechnung des Bruches kann unendlich weitergeführt werden, dies wird häufig durch den Periodenstrich dargestellt. Das gleiche Problem gibt es bei der Zahlendarstellung in Computern ebenfalls, nur dass dort nicht die Basis 10 genutzt wird, sondern die Basis 2. Das hat zur Folge, dass die Dezimalzahl 0.3 im Computer nicht exakt dargestellt werden kann."
    },
    {
      "metadata": {
        "trusted": true
      },
      "cell_type": "code",
      "source": "0.1 + 0.1 + 0.1 - 0.3",
      "execution_count": 10,
      "outputs": [
        {
          "output_type": "execute_result",
          "execution_count": 10,
          "data": {
            "text/plain": "5.551115123125783e-17"
          },
          "metadata": {}
        }
      ]
    },
    {
      "metadata": {
        "trusted": true
      },
      "cell_type": "code",
      "source": "0.1 + 0.1 - 0.3 + 0.1",
      "execution_count": 11,
      "outputs": [
        {
          "output_type": "execute_result",
          "execution_count": 11,
          "data": {
            "text/plain": "2.7755575615628914e-17"
          },
          "metadata": {}
        }
      ]
    },
    {
      "metadata": {},
      "cell_type": "markdown",
      "source": "Das Ergebnis der obigen Differenz ist nicht Null sondern ein sehr kleiner Fehler. Dieser hängt sogar noch von der Reihenfolge ab, in der die Berechnungen durchgeführt werden.\n\nAber:"
    },
    {
      "metadata": {
        "trusted": true
      },
      "cell_type": "code",
      "source": "0.1 + 0.1 + 0.1 + 0.1 == 0.4",
      "execution_count": 12,
      "outputs": [
        {
          "output_type": "execute_result",
          "execution_count": 12,
          "data": {
            "text/plain": "True"
          },
          "metadata": {}
        }
      ]
    },
    {
      "metadata": {
        "trusted": true
      },
      "cell_type": "code",
      "source": "2*2-4 == 0",
      "execution_count": 13,
      "outputs": [
        {
          "output_type": "execute_result",
          "execution_count": 13,
          "data": {
            "text/plain": "True"
          },
          "metadata": {}
        }
      ]
    },
    {
      "metadata": {
        "trusted": true
      },
      "cell_type": "code",
      "source": "2.0*2.0-4.0 == 0",
      "execution_count": 14,
      "outputs": [
        {
          "output_type": "execute_result",
          "execution_count": 14,
          "data": {
            "text/plain": "True"
          },
          "metadata": {}
        }
      ]
    },
    {
      "metadata": {
        "trusted": true
      },
      "cell_type": "code",
      "source": "4.0**0.5 == 2.0",
      "execution_count": 15,
      "outputs": [
        {
          "output_type": "execute_result",
          "execution_count": 15,
          "data": {
            "text/plain": "True"
          },
          "metadata": {}
        }
      ]
    },
    {
      "metadata": {
        "trusted": true
      },
      "cell_type": "code",
      "source": "(3.9+0.1)**0.5 == 2.0",
      "execution_count": 16,
      "outputs": [
        {
          "output_type": "execute_result",
          "execution_count": 16,
          "data": {
            "text/plain": "True"
          },
          "metadata": {}
        }
      ]
    },
    {
      "metadata": {},
      "cell_type": "markdown",
      "source": "Wir können in den meisten Fällen nicht exakt voraussagen, ob ein Ergebnis mathematisch exakt sein wird, oder (kleine) Rundungsfehler enthält. Bei reellen Zahlen muss man grundsätzlich davon ausgehen, dass Rundungsfehler auftreten können!"
    },
    {
      "metadata": {},
      "cell_type": "markdown",
      "source": "Der korrekte Vergleich lautet hier mit einer selbstgewählten Genauigkeit $\\varepsilon$, (häufig wird $\\varepsilon = \\text{1e-8} = 1\\cdot 10^{-8}$ gewählt):"
    },
    {
      "metadata": {
        "trusted": true
      },
      "cell_type": "code",
      "source": "epsilon = 1e-8\nabs(0.1 + 0.1 + 0.1 - 0.3) < epsilon",
      "execution_count": 17,
      "outputs": [
        {
          "output_type": "execute_result",
          "execution_count": 17,
          "data": {
            "text/plain": "True"
          },
          "metadata": {}
        }
      ]
    },
    {
      "metadata": {
        "trusted": true
      },
      "cell_type": "code",
      "source": "-epsilon < 0.1 + 0.1 + 0.1 -0.3 < epsilon",
      "execution_count": 18,
      "outputs": [
        {
          "output_type": "execute_result",
          "execution_count": 18,
          "data": {
            "text/plain": "True"
          },
          "metadata": {}
        }
      ]
    },
    {
      "metadata": {},
      "cell_type": "markdown",
      "source": "Achtung bei Potenzen: Eine Potenz wird in python mit `**` angegeben! Der Grund ist, dass das gebräuchliche ^ schon für das bitweise xor verwendet wurde."
    },
    {
      "metadata": {
        "trusted": true
      },
      "cell_type": "code",
      "source": "2**3",
      "execution_count": 19,
      "outputs": [
        {
          "output_type": "execute_result",
          "execution_count": 19,
          "data": {
            "text/plain": "8"
          },
          "metadata": {}
        }
      ]
    },
    {
      "metadata": {},
      "cell_type": "markdown",
      "source": "# Aufgabe\n\nEine Minute besteht aus 60 Sekunden, eine Stunde aus 60 Minuten und ein Tag besteht aus 24 Stunden.\n\nWieviel Sekunden dauert ein Tag?"
    },
    {
      "metadata": {
        "trusted": true
      },
      "cell_type": "code",
      "source": "# Ihre Lösung beginnt hier:\nminute = 60 # s\nstunde = 60 # minute(n)\ntag = 24 # stunde(n)\n\ntag_s = minute*stunde*tag\ntag_s # Dauer des Tages in Sekunden",
      "execution_count": 21,
      "outputs": [
        {
          "output_type": "execute_result",
          "execution_count": 21,
          "data": {
            "text/plain": "86400"
          },
          "metadata": {}
        }
      ]
    },
    {
      "metadata": {},
      "cell_type": "markdown",
      "source": "# Aufgabe\n\nEin Kegel hat eine kreisförmige Grundfläche mit einem Radius von $r=5\\,\\mathrm{cm}$. Er ist $h=10\\,\\mathrm{cm}$ hoch.\n\nBerechnen Sie das Volumen des Kegels mit der Formel\n\n$$\n V = \\dfrac{\\pi\\,d^2}{4}\\,\\dfrac{h}{3}\n$$\n\nWenn Sie nicht näherungsweise mit $pi\\approx 3.141592653$ rechnen wollen, müssen Sie den Wert `pi` zunächst verfügbar machen. Dieser ist z.B. in der Bibliothem `math` vorhanden und kann von dort importiert werden. Tippen Sie dazu in die nächste Zeile:\n\n`from math import pi`"
    },
    {
      "metadata": {
        "trusted": true
      },
      "cell_type": "code",
      "source": "# Ihre Lösung beginnt hier:\nfrom math import pi\n\nr = 5 # cm\nd = 2*r # cm\nh = 10 # cm\n\nV = pi*d**2/4 * h/3\nV # Voumen in cm**3",
      "execution_count": 22,
      "outputs": [
        {
          "output_type": "execute_result",
          "execution_count": 22,
          "data": {
            "text/plain": "261.79938779914943"
          },
          "metadata": {}
        }
      ]
    },
    {
      "metadata": {},
      "cell_type": "markdown",
      "source": "# Aufgabe\n\nEin rechteckiges Grundstück hat eine Länge von $l=105\\,\\mathrm{m}$ und eine Breite von $b=85\\,\\mathrm{m}$.\n\nDer Grundstückspreis beträgt $152\\,\\frac{€}{m^2}$.\n\n- Berechnen Sie die Größe des Grundstücks in $\\mathrm{m}^2$.\n- Berechnen Sie den Kaufpreis in $€$.\n\nDie zugehörigen Formeln lauten:\n\n\\begin{align*}\n  A &= l\\,b,\\quad\\text{mit $A$: Fläche in $m^2$, $l$,$b$: Seitenlängen des Rechtecks in $m$}\\\\\n  K &= k\\,A,\\quad\\text{mit $K$: Kosten in $€$, $k$: Grundstückspreis in $€$ je $m^2$}\n\\end{align*}"
    },
    {
      "metadata": {
        "trusted": true
      },
      "cell_type": "code",
      "source": "# Ihre Lösung beginnt hier:\nell = 105 # Länge in m\nb = 85 # Breite in m\n\nA = ell*b\nA # Fläche in m**2",
      "execution_count": 23,
      "outputs": [
        {
          "output_type": "execute_result",
          "execution_count": 23,
          "data": {
            "text/plain": "8925"
          },
          "metadata": {}
        }
      ]
    },
    {
      "metadata": {
        "trusted": true
      },
      "cell_type": "code",
      "source": "k = 152 # Grundstückspreis in Euro/m**2\n\nK = k*A \nK # Kosten in Euro",
      "execution_count": 24,
      "outputs": [
        {
          "output_type": "execute_result",
          "execution_count": 24,
          "data": {
            "text/plain": "1356600"
          },
          "metadata": {}
        }
      ]
    },
    {
      "metadata": {},
      "cell_type": "markdown",
      "source": "# Aufgabe\n\nÜberprüfen Sie, ob der Grundstückspreis $1356600.00€$ beträgt."
    },
    {
      "metadata": {
        "trusted": true
      },
      "cell_type": "code",
      "source": "# Ihre Lösung beginnt hier:\nK == 1356600.00",
      "execution_count": 25,
      "outputs": [
        {
          "output_type": "execute_result",
          "execution_count": 25,
          "data": {
            "text/plain": "True"
          },
          "metadata": {}
        }
      ]
    },
    {
      "metadata": {},
      "cell_type": "markdown",
      "source": "Aber Vorsicht! Sicherer ist der Test:"
    },
    {
      "metadata": {
        "trusted": true
      },
      "cell_type": "code",
      "source": "#Fehlerschranke:\nepsilon = 1e-8\n\nabs(K-1356600.00) <= epsilon",
      "execution_count": 26,
      "outputs": [
        {
          "output_type": "execute_result",
          "execution_count": 26,
          "data": {
            "text/plain": "True"
          },
          "metadata": {}
        }
      ]
    },
    {
      "metadata": {},
      "cell_type": "markdown",
      "source": "Um etwas tiefer in die Programmiersprache Python einzusteigen, empfiehlt sich die offizielle Dokumentation von Python. Sie ist unter\n\nhttps://docs.python.org/3/\n\nzu finden. Diese Dokumentation ist auf englisch verfasst. Es gibt ein deutschsprachiges Pythontutorial unter\n\nhttps://py-tutorial-de.readthedocs.io/de/python-3.3/index.html\n\nIn der Regel ist das englischprachige Tutorial aktueller."
    },
    {
      "metadata": {},
      "cell_type": "markdown",
      "source": "Sucht man unter google nach den Stichworten wie \"Python\", \"Tutorial\", \"Dokumentation\", so findet man sehr viele sehr gute Materialien."
    }
  ],
  "metadata": {
    "kernelspec": {
      "name": "python36",
      "display_name": "Python 3.6",
      "language": "python"
    },
    "language_info": {
      "mimetype": "text/x-python",
      "nbconvert_exporter": "python",
      "name": "python",
      "pygments_lexer": "ipython3",
      "version": "3.6.6",
      "file_extension": ".py",
      "codemirror_mode": {
        "version": 3,
        "name": "ipython"
      }
    }
  },
  "nbformat": 4,
  "nbformat_minor": 2
}