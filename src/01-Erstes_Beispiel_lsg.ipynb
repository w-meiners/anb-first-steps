{
 "cells": [
  {
   "cell_type": "markdown",
   "metadata": {},
   "source": [
    "# Einleitung\n",
    "\n",
    "Jupyter Notebooks sind Textdokumente mit der Endung \".ipynb\", die ursprünglich für IPython Notebook gestanden hat. IPython Notebooks hat es nur für kurze Zeit gegeben, dann wurde der Schritt hin zu den Jupyter Notebooks getan. Jupyter steht dabei für die Programmiersprachen Julia, Python und R.\n",
    "\n",
    "Mittlerweile können nicht nur diese drei Programmiersprachen auf Jupyter Notebooks zugreifen, sondern viele andere. Für nähere Informationen siehe [Jupyter homepage](https://jupyter.org).\n",
    "\n"
   ]
  },
  {
   "cell_type": "markdown",
   "metadata": {},
   "source": [
    "## Ein einfaches Beispiel\n",
    "\n",
    "Durch ein Kupferrohr CU 15$\\times$1 strömt Wasser mit einer Geschwindigkeit von $0.75\\,\\frac{\\mathrm{m}}{\\mathrm{s}}$.\n",
    "\n",
    "### Aufgabe\n",
    "Berechnen Sie den Volumenstrom in $\\frac{\\mathrm{m}^3}{\\mathrm{h}}$.\n",
    "\n",
    "#### Hinweis\n",
    "Der Zusammenhang zwischen Volumenstrom, Durchmesser und Strömungsgeschwindigkeit ist durch die Formeln\n",
    "\n",
    "$$\n",
    "  \\dot{V} = A\\cdot v, \n",
    "  \\quad\n",
    "  \\text{mit der Querschnittsfläche}\n",
    "  \\quad A = \\dfrac{\\pi\\,d^2}{4}\n",
    "$$\n",
    "\n",
    "gegeben."
   ]
  },
  {
   "cell_type": "markdown",
   "metadata": {},
   "source": [
    "### Lösung\n",
    "\n",
    "Um den Volumenstrom zu berechnen, wird zunächst die Fläche $A$ berechnet. Das Ergebnis wird in die Formel für den Volumenstrom eingesetzt."
   ]
  },
  {
   "cell_type": "code",
   "execution_count": 1,
   "metadata": {},
   "outputs": [],
   "source": [
    "import math"
   ]
  },
  {
   "cell_type": "code",
   "execution_count": 3,
   "metadata": {},
   "outputs": [
    {
     "data": {
      "text/plain": [
       "0.00013273228961416876"
      ]
     },
     "execution_count": 3,
     "metadata": {},
     "output_type": "execute_result"
    }
   ],
   "source": [
    "d = 0.013 # Durchmesser in m\n",
    "\n",
    "A = math.pi*d**2/4\n",
    "A # Fläche A in m**2"
   ]
  },
  {
   "cell_type": "markdown",
   "metadata": {},
   "source": [
    "Im nächsten Schritt wird der Volumenstrom berechnet:"
   ]
  },
  {
   "cell_type": "code",
   "execution_count": 4,
   "metadata": {},
   "outputs": [
    {
     "data": {
      "text/plain": [
       "9.954921721062657e-05"
      ]
     },
     "execution_count": 4,
     "metadata": {},
     "output_type": "execute_result"
    }
   ],
   "source": [
    "v = 0.75 # Geschwindigkeit in m/s\n",
    "\n",
    "dV = A*v\n",
    "dV # Volumenstrom in m**3/s"
   ]
  },
  {
   "cell_type": "markdown",
   "metadata": {},
   "source": [
    "Das Ergebnis ist eine _sehr_ kleine Zahl. Man beachte die Endung `...657e-05`. Dadurch ist das Komma um fünf Stellen nach links zu verschieben,\n",
    "\n",
    "`9.954921721062657e-05 = 0.00009954921721062657`"
   ]
  },
  {
   "cell_type": "code",
   "execution_count": 5,
   "metadata": {},
   "outputs": [
    {
     "data": {
      "text/plain": [
       "0.35837718195825563"
      ]
     },
     "execution_count": 5,
     "metadata": {},
     "output_type": "execute_result"
    }
   ],
   "source": [
    "dV = dV*3600\n",
    "dV # m**3/h"
   ]
  },
  {
   "cell_type": "markdown",
   "metadata": {},
   "source": [
    "Das entspricht etwa 358 Liter Wasser pro Stunde."
   ]
  }
 ],
 "metadata": {
  "kernelspec": {
   "display_name": "Python 3",
   "language": "python",
   "name": "python3"
  },
  "language_info": {
   "codemirror_mode": {
    "name": "ipython",
    "version": 3
   },
   "file_extension": ".py",
   "mimetype": "text/x-python",
   "name": "python",
   "nbconvert_exporter": "python",
   "pygments_lexer": "ipython3",
   "version": "3.7.2"
  }
 },
 "nbformat": 4,
 "nbformat_minor": 1
}
