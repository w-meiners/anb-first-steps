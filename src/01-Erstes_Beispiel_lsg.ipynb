{
  "cells": [
    {
      "metadata": {},
      "cell_type": "markdown",
      "source": "# Einleitung\n\nJupyter Notebooks sind Textdokumente mit der Endung \".ipynb\", die ursprünglich für IPython Notebook gestanden hat. IPython Notebooks hat es nur für kurze Zeit gegeben, dann wurde der Schritt hin zu den Jupyter Notebooks getan. Jupyter steht dabei für die Programmiersprachen Julia, Python und R.\n\nMittlerweile können nicht nur diese drei Programmiersprachen auf Jupyter Notebooks zugreifen, sondern viele andere. Für nähere Informationen siehe [Jupyter homepage](https://jupyter.org).\n\n"
    },
    {
      "metadata": {},
      "cell_type": "markdown",
      "source": "## Ein einfaches Beispiel\n\nDurch ein Kupferrohr CU 15$\\times$1 strömt Wasser mit einer Geschwindigkeit von $0.75\\,\\frac{\\mathrm{m}}{\\mathrm{s}}$.\n\n### Aufgabe\nBerechnen Sie den Volumenstrom in $\\frac{\\mathrm{m}^3}{\\mathrm{h}}$.\n\n#### Hinweis\nDer Zusammenhang zwischen Volumenstrom, Durchmesser und Strömungsgeschwindigkeit ist durch die Formeln\n\n$$\n  \\dot{V} = A\\cdot v, \n  \\quad\n  \\text{mit der Querschnittsfläche}\n  \\quad A = \\dfrac{\\pi\\,d^2}{4}\n$$\n\ngegeben."
    },
    {
      "metadata": {},
      "cell_type": "markdown",
      "source": "### Lösung\n\nUm den Volumenstrom zu berechnen, wird zunächst die Fläche $A$ berechnet. Das Ergebnis wird in die Formel für den Volumenstrom eingesetzt.\n\nDer _Innendurchmesser_ $d$ des Kupferrohres beträgt $13\\,\\mathrm{mm}$, denn auf jeder Seite ist die Wandstärke von $1\\,\\mathrm{mm}$ zu berücksichtigen! Außerdem wird das Ergebnis in der Einheit $\\mathrm{m}^2$ benötigt. Dann hat $\\dot{V}$ die Einheit \n\n$$\n\\left[\\dot{V}\\right] =  \n\\left[A\\right]\\cdot\\left[v\\right] =\n\\mathrm{m}^2\\cdot\\dfrac{\\mathrm{m}}{\\mathrm{s}} =\n\\frac{\\mathrm{m}^3}{\\mathrm{s}}\n$$\n\nFür die Berechnung wird zunächst das Modul `math` importiert, in dem unter anderem die Konstante $\\pi$ gespeichert ist:"
    },
    {
      "metadata": {
        "trusted": true
      },
      "cell_type": "code",
      "source": "import math",
      "execution_count": 1,
      "outputs": []
    },
    {
      "metadata": {
        "trusted": true
      },
      "cell_type": "code",
      "source": "d = 0.013 # Durchmesser in m\n\nA = math.pi*d**2/4\nA # Fläche A in m**2",
      "execution_count": 2,
      "outputs": [
        {
          "output_type": "execute_result",
          "execution_count": 2,
          "data": {
            "text/plain": "0.00013273228961416876"
          },
          "metadata": {}
        }
      ]
    },
    {
      "metadata": {
        "trusted": true
      },
      "cell_type": "code",
      "source": "v = 0.75 # Geschwindigkeit in m/s\n\ndV = A*v\ndV # Volumenstrom in m**3/s",
      "execution_count": 3,
      "outputs": [
        {
          "output_type": "execute_result",
          "execution_count": 3,
          "data": {
            "text/plain": "9.954921721062657e-05"
          },
          "metadata": {}
        }
      ]
    },
    {
      "metadata": {},
      "cell_type": "markdown",
      "source": "Das Ergebnis ist eine sehr kleine Zahl. Die Umrechnung von $\\frac{\\mathrm{m}^3}{\\mathrm{s}}$ auf \n$\\frac{\\mathrm{m}^3}{\\mathrm{h}}$ geschieht durch Erweitern:\n\n$$\n  \\dot{V} = \n  \\text{Zahlenwert}\\cdot\\frac{\\mathrm{m}^3}{\\mathrm{s}} = \n  \\text{Zahlenwert}\\cdot\\frac{\\mathrm{m}^3}{\\mathrm{s}} \\cdot  \\frac{3600\\,\\mathrm{s}}{\\mathrm{h}} =\n  \\text{Zahlenwert}\\cdot 3600\\frac{\\mathrm{m}^3}{\\mathrm{h}}\n$$"
    },
    {
      "metadata": {
        "trusted": true
      },
      "cell_type": "code",
      "source": "dV = dV*3600\ndV # m**3/h",
      "execution_count": 4,
      "outputs": [
        {
          "output_type": "execute_result",
          "execution_count": 4,
          "data": {
            "text/plain": "0.35837718195825563"
          },
          "metadata": {}
        }
      ]
    }
  ],
  "metadata": {
    "kernelspec": {
      "name": "python36",
      "display_name": "Python 3.6",
      "language": "python"
    },
    "language_info": {
      "mimetype": "text/x-python",
      "nbconvert_exporter": "python",
      "name": "python",
      "pygments_lexer": "ipython3",
      "version": "3.6.6",
      "file_extension": ".py",
      "codemirror_mode": {
        "version": 3,
        "name": "ipython"
      }
    }
  },
  "nbformat": 4,
  "nbformat_minor": 1
}