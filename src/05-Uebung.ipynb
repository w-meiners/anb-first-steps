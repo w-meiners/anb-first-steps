{
 "cells": [
  {
   "cell_type": "markdown",
   "metadata": {},
   "source": [
    "# Übung"
   ]
  },
  {
   "cell_type": "markdown",
   "metadata": {},
   "source": [
    "Nach DIN 1946-6 sind Türen mit einer Überströmöffnung zu versehen. Das ist erforderlich, damit die Luft auch bei geschlossenen Türen von den Zulufträumen zu den Ablufträumen strömen kann.\n",
    "\n",
    "Die Überströmöffnung wird meist durch Kürzung des Türspalts um einen bestimmten Betrag sichergestellt. Nach DIN 1946-6 ist die folgende Tabelle einzuhalten:\n",
    "\n",
    "Luftmenge<br>Tür mit Dichtung | $\\frac{m^3}{h}$ | 10 | 20 | 30 | 40 | 50 | 60 | 70 | 80 | 90 | 100\n",
    "------------------------------|-----------------|----|----|----|----|----|----|----|----|----|----\n",
    "Überströmfläche               | $cm^2$          | 25 | 50 | 75 | 100|125 |150 |175 |200 | 225| 250\n",
    "Kürzungsmaß                   | $mm$            |  3 |  6 |  8 | 11 | 14 | 17 | 20 | 22 | 25 | 28\n",
    "\n",
    "- Berechnen Sie die lichten Breiten der Tür\n",
    "- berechnen Sie die Strömungsgeschwindigkeiten $v$ der Luft im Türspalt,\n",
    "- stellen Sie die Überströmfläche und das Kürzungsmaß jeweils in einem Diagramm dar, wobei die $x$-Achse der Volumenstrom in $\\frac{m^3}{h}$ ist."
   ]
  }
 ],
 "metadata": {
  "kernelspec": {
   "display_name": "python 3.6",
   "language": "python",
   "name": "python36"
  },
  "language_info": {
   "codemirror_mode": {
    "name": "ipython",
    "version": 3
   },
   "file_extension": ".py",
   "mimetype": "text/x-python",
   "name": "python",
   "nbconvert_exporter": "python",
   "pygments_lexer": "ipython3",
   "version": "3.6.8"
  }
 },
 "nbformat": 4,
 "nbformat_minor": 2
}
