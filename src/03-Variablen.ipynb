{
  "cells": [
    {
      "metadata": {},
      "cell_type": "markdown",
      "source": "# Variablen\n\nWenn Sie ein neues Jupyter Notebook erstellen, wählen Sie `Python 3.6` als Typ des Notebooks aus.\n\nInnerhalb des Notebooks arbeiten Sie dann mit Python in der Version 3.6. Um zu verstehen, welche Bedeutung Variablen haben, müssen Sie also Variablen in Python 3.6 verstehen.\n\nIn Python ist eine Variable ein Kurzname für einen Speicherbereich, in den Daten abgelegt werden können. Auf diese Daten kann dann unter dem Namen der Variablen zugegriffen werden. Dies haben wir prinzipiell bereits in den ersten Übungen durchgeführt. Beispiele:\n\n`d_i = 20 # Innendurchmesser eines Rohres`"
    },
    {
      "metadata": {},
      "cell_type": "markdown",
      "source": "Den Name einer Variablen muss eindeutig sein. Er darf nicht mit einer Ziffer beginnen und darf keine Operationszeichen wie `'+', '-', '*', ':', '^'` oder `'#'` enthalten. Soll einer Variablen ein Wert zugewiesen werden, so geschieht das mittels des Gleichheitszeichens, siehe oben.\n\nDas `'#'`-Zeichen leitet einen Kommentar ein. Alles, was nach diesem Zeichen folgt, hat einen rein informativen Charakter aber wird von Python ignoriert."
    },
    {
      "metadata": {},
      "cell_type": "markdown",
      "source": "Sobald eine Variable angelegt ist, kann diese in Berechnungen verwendet werden, z.B."
    },
    {
      "metadata": {
        "trusted": true
      },
      "cell_type": "code",
      "source": "import math",
      "execution_count": null,
      "outputs": []
    },
    {
      "metadata": {
        "trusted": true
      },
      "cell_type": "code",
      "source": "d_i = 20e-3 # Innendurchmesser eines Rohres in m\n\nA_i = math.pi*d_i**2/4 # Lichter Querschnitt in m**2",
      "execution_count": null,
      "outputs": []
    },
    {
      "metadata": {},
      "cell_type": "markdown",
      "source": "In einer Zelle dürfen mehrere Operationen stehen, siehe oben. Eine Zelle kann eine Ausgabe haben. Das ist dann immer das Ergebnis der Letzten Operation. \n\nIn der oben stehenden Zelle steht als letztes eine Wertzuweisung `A_i = ...`, die keine Ausgabe erzeugt. "
    },
    {
      "metadata": {},
      "cell_type": "markdown",
      "source": "Um interaktiv arbeiten zu können, sollte man nicht zu lange Berechnungen in einzelnen Zellen durchführen. Statt dessen sollte man nach wenigen sinnvollen Schritten Zwischenergebnisse anzeigen, um den Gang der Arbeit nachvollziehen zu können. \n\nStellt man einen Fehler fest, so können Werte geändert und die Zelle erneut ausgeführt werden."
    },
    {
      "metadata": {},
      "cell_type": "markdown",
      "source": "Um das Ergebnis der oben durchgeführten Berechnung anzuzeigen, kann man die zuletzt erzeugte Variable aufrufen. Die Zelle sähe dann so aus:"
    },
    {
      "metadata": {
        "trusted": true
      },
      "cell_type": "code",
      "source": "d_i = 20e-3 # Innendurchmesser eines Rohres in m\n\nA_i = math.pi*d_i**2/4 # Lichter Querschnitt in m**2\nA_i",
      "execution_count": null,
      "outputs": []
    },
    {
      "metadata": {},
      "cell_type": "markdown",
      "source": "Variablen haben einen Typ, den man sich durch die Funktion `type(variable)` anzeigen kann, z.B.:"
    },
    {
      "metadata": {
        "trusted": true
      },
      "cell_type": "code",
      "source": "type(A_i)",
      "execution_count": null,
      "outputs": []
    },
    {
      "metadata": {},
      "cell_type": "markdown",
      "source": "# Aufgabe\n\nUntersuchen Sie, welchen Typ die Variablen\n\n`a=1`\n\n`x=5.0`\n\n`Name = 'Bernd'`\n\nund\n\n`Punkt = (3,4)`\n\nhaben."
    },
    {
      "metadata": {},
      "cell_type": "markdown",
      "source": "Untersuchen Sie, welche Auswirkung der Befehl\n\n`2*Name`\n\nmit dem oben definierten Namen hat. Welche Auswirkung hat analog\n\n`2*Punkt`?"
    },
    {
      "metadata": {},
      "cell_type": "markdown",
      "source": "Stellen Sie eine Vermutung auf, welchen Typ das Produkt `a*x` und die Summe `a+x` mit den oben festgelegten Werten von `a` und `x` haben und überprüfen Sie diese."
    },
    {
      "metadata": {},
      "cell_type": "markdown",
      "source": "Um die Anwendungen in der Mathematik nicht aus den Augen zu verlieren, bearbeiten Sie die folgende Aufgabe:\n\n# Aufgabe\n\nBerechnen Sie das Gewicht von 250m Kupferrohr CU15$\\times$1 in kg. Entnehmen Sie dafür die Dichte $\\varrho$ von Kupfer ihrem Tabellenbuch. Die Zusammenhänge sind durch die folgenden Formeln gegeben:\n\n\\begin{align}\n  A &= \\dfrac{\\pi\\,(d_a^2 - d_i^2)}{4}\n  \\\\[2ex]\n  V &= A\\, l\n  \\\\[2ex]\n  m &= \\varrho\\, V\n\\end{align}"
    },
    {
      "metadata": {
        "trusted": true
      },
      "cell_type": "code",
      "source": "import math",
      "execution_count": null,
      "outputs": []
    },
    {
      "metadata": {
        "trusted": true
      },
      "cell_type": "code",
      "source": "# Ihre Lösung beginnt hier",
      "execution_count": null,
      "outputs": []
    }
  ],
  "metadata": {
    "kernelspec": {
      "name": "python36",
      "display_name": "Python 3.6",
      "language": "python"
    },
    "language_info": {
      "mimetype": "text/x-python",
      "nbconvert_exporter": "python",
      "name": "python",
      "pygments_lexer": "ipython3",
      "version": "3.6.6",
      "file_extension": ".py",
      "codemirror_mode": {
        "version": 3,
        "name": "ipython"
      }
    }
  },
  "nbformat": 4,
  "nbformat_minor": 1
}