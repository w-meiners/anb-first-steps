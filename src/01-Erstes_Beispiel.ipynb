{
 "cells": [
  {
   "cell_type": "markdown",
   "metadata": {},
   "source": [
    "# Einleitung\n",
    "\n",
    "Jupyter Notebooks sind Textdokumente mit der Endung \".ipynb\", die ursprünglich für IPython Notebook gestanden hat. IPython Notebooks hat es nur für kurze Zeit gegeben, dann wurde der Schritt hin zu den Jupyter Notebooks getan. Jupyter steht dabei für die Programmiersprachen Julia, Python und R.\n",
    "\n",
    "Mittlerweile können nicht nur diese drei Programmiersprachen auf Jupyter Notebooks zugreifen, sondern viele andere. Für nähere Informationen siehe [Jupyter homepage](https://jupyter.org).\n",
    "\n"
   ]
  },
  {
   "cell_type": "markdown",
   "metadata": {},
   "source": [
    "## Ein einfaches Beispiel\n",
    "\n",
    "Durch ein Kupferrohr CU 15$\\times$1 strömt Wasser mit einer Geschwindigkeit von $0.75\\,\\frac{\\mathrm{m}}{\\mathrm{s}}$.\n",
    "\n",
    "### Aufgabe\n",
    "Berechnen Sie den Volumenstrom in $\\frac{\\mathrm{m}^3}{\\mathrm{h}}$.\n",
    "\n",
    "#### Hinweis\n",
    "Der Zusammenhang zwischen Volumenstrom, Durchmesser und Strömungsgeschwindigkeit ist durch die Formeln\n",
    "\n",
    "$$\n",
    "  \\dot{V} = A\\cdot v, \n",
    "  \\quad\n",
    "  \\text{mit der Querschnittsfläche}\n",
    "  \\quad A = \\dfrac{\\pi\\,d^2}{4}\n",
    "$$\n",
    "\n",
    "gegeben."
   ]
  }
 ],
 "metadata": {
  "kernelspec": {
   "display_name": "Python 3",
   "language": "python",
   "name": "python3"
  },
  "language_info": {
   "codemirror_mode": {
    "name": "ipython",
    "version": 3
   },
   "file_extension": ".py",
   "mimetype": "text/x-python",
   "name": "python",
   "nbconvert_exporter": "python",
   "pygments_lexer": "ipython3",
   "version": "3.7.2"
  }
 },
 "nbformat": 4,
 "nbformat_minor": 1
}
