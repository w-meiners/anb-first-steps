{
  "cells": [
    {
      "metadata": {
        "trusted": true
      },
      "cell_type": "code",
      "source": "%autosave 3600",
      "execution_count": null,
      "outputs": []
    },
    {
      "metadata": {},
      "cell_type": "markdown",
      "source": "# Erste Beispiele"
    },
    {
      "metadata": {},
      "cell_type": "markdown",
      "source": "## Python als \"Taschenrechner\""
    },
    {
      "metadata": {},
      "cell_type": "markdown",
      "source": "\"Einfache\" Berechnungen können in python direkt durchgeführt werden:"
    },
    {
      "metadata": {
        "trusted": true
      },
      "cell_type": "code",
      "source": "3+4+5",
      "execution_count": null,
      "outputs": []
    },
    {
      "metadata": {
        "trusted": true
      },
      "cell_type": "code",
      "source": "(22*(3-4)+9)/7",
      "execution_count": null,
      "outputs": []
    },
    {
      "metadata": {},
      "cell_type": "markdown",
      "source": "Das Ergebnis ist ein Dezimalbruch und wird daher -in den meisten Fällen- nicht exakt sein. Während das Ergebnis für praktische Berechnungen -in den meisten Fällen- völlig brauchbar ist, sind exakte mathematische Vergleiche problematisch:"
    },
    {
      "metadata": {},
      "cell_type": "markdown",
      "source": "Für die Durchführung von Rechnungen gilt die Regel \"Punktrechnung vor Strichrechnung\". Falls nötig, sind Klammern zu setzen, vergleichen Sie die Ausgabe von"
    },
    {
      "metadata": {
        "trusted": true
      },
      "cell_type": "code",
      "source": "3*4+5",
      "execution_count": null,
      "outputs": []
    },
    {
      "metadata": {},
      "cell_type": "markdown",
      "source": "mit"
    },
    {
      "metadata": {
        "trusted": true
      },
      "cell_type": "code",
      "source": "3*(4+5)",
      "execution_count": null,
      "outputs": []
    },
    {
      "metadata": {},
      "cell_type": "markdown",
      "source": "Genau so, wie die Multiplikation stärker bindet als die Addition, binden Potenzen stärker als Multiplikation:"
    },
    {
      "metadata": {
        "trusted": true
      },
      "cell_type": "code",
      "source": "4*3**2",
      "execution_count": null,
      "outputs": []
    },
    {
      "metadata": {
        "trusted": true
      },
      "cell_type": "code",
      "source": "(4*3)**2",
      "execution_count": null,
      "outputs": []
    },
    {
      "metadata": {},
      "cell_type": "markdown",
      "source": "Besonderes Augenmerk muss man auf negative Zahlen legen, hier ist\n\n$$ -a = (-1)\\cdot a. $$\n\nDas bedeutet insbesondere, dass\n\n$$ -a^2 = (-1)\\cdot a^2 $$\n\nist, wogegen\n\n$$ (-a)^2 = ((-1)\\cdot(a))^2 = a^2 $$\n\nist. Man muss also zwischen **dem negativen einer Quadratzahl** und **dem Quadrat einer negativen Zahl** unterscheiden."
    },
    {
      "metadata": {},
      "cell_type": "markdown",
      "source": "Vorsicht muss man bei Vergleichen von Rechenergebnissen walten lassen. So ist:"
    },
    {
      "metadata": {
        "trusted": true
      },
      "cell_type": "code",
      "source": "0.1 + 0.1 + 0.1 + 0.1 == 0.4",
      "execution_count": null,
      "outputs": []
    },
    {
      "metadata": {},
      "cell_type": "markdown",
      "source": "aber:"
    },
    {
      "metadata": {
        "trusted": true
      },
      "cell_type": "code",
      "source": "0.1 + 0.1 + 0.1 == 0.3",
      "execution_count": null,
      "outputs": []
    },
    {
      "metadata": {},
      "cell_type": "markdown",
      "source": "Der Grund dafür ist im Prinzip sehr einfach, aber meist nur schwer zu erkennen. Im Computer lassen sich Zahlen in der Regel nicht exakt darstellen. Das Prinzip ist von den Bruchzahlen bekannt:\n\n$$\n  \\dfrac{1}{3} = 0.333\\cdots\n$$\n\nDie Bruchzahl $\\dfrac{1}{3}$ lässt sich als Dezimalbruch nicht exakt darstellen. Die Rechenvorschrift zur Berechnung des Bruches kann unendlich weitergeführt werden, dies wird häufig durch den Periodenstrich dargestellt. Das gleiche Problem gibt es bei der Zahlendarstellung in Computern ebenfalls, nur dass dort nicht die Basis 10 genutzt wird, sondern die Basis 2. Das hat zur Folge, dass die Dezimalzahl 0.3 im Computer nicht exakt dargestellt werden kann."
    },
    {
      "metadata": {
        "trusted": true
      },
      "cell_type": "code",
      "source": "0.1 + 0.1 + 0.1 - 0.3",
      "execution_count": null,
      "outputs": []
    },
    {
      "metadata": {
        "trusted": true
      },
      "cell_type": "code",
      "source": "0.1 + 0.1 - 0.3 + 0.1",
      "execution_count": null,
      "outputs": []
    },
    {
      "metadata": {},
      "cell_type": "markdown",
      "source": "Das Ergebnis der obigen Differenz ist nicht Null sondern ein sehr kleiner Fehler. Dieser hängt sogar noch von der Reihenfolge ab, in der die Berechnungen durchgeführt werden.\n\nAber:"
    },
    {
      "metadata": {
        "trusted": true
      },
      "cell_type": "code",
      "source": "0.1 + 0.1 + 0.1 + 0.1 == 0.4",
      "execution_count": null,
      "outputs": []
    },
    {
      "metadata": {
        "trusted": true
      },
      "cell_type": "code",
      "source": "2*2-4 == 0",
      "execution_count": null,
      "outputs": []
    },
    {
      "metadata": {
        "trusted": true
      },
      "cell_type": "code",
      "source": "2.0*2.0-4.0 == 0",
      "execution_count": null,
      "outputs": []
    },
    {
      "metadata": {
        "trusted": true
      },
      "cell_type": "code",
      "source": "4.0**0.5 == 2.0",
      "execution_count": null,
      "outputs": []
    },
    {
      "metadata": {
        "trusted": true
      },
      "cell_type": "code",
      "source": "(3.9+0.1)**0.5 == 2.0",
      "execution_count": null,
      "outputs": []
    },
    {
      "metadata": {},
      "cell_type": "markdown",
      "source": "Wir können in den meisten Fällen nicht exakt voraussagen, ob ein Ergebnis mathematisch exakt sein wird, oder (kleine) Rundungsfehler enthält. Bei reellen Zahlen muss man grundsätzlich davon ausgehen, dass Rundungsfehler auftreten können!"
    },
    {
      "metadata": {},
      "cell_type": "markdown",
      "source": "Der korrekte Vergleich lautet hier mit einer selbstgewählten Genauigkeit $\\varepsilon$, (häufig wird $\\varepsilon = \\text{1e-8} = 1\\cdot 10^{-8}$ gewählt):"
    },
    {
      "metadata": {
        "trusted": true
      },
      "cell_type": "code",
      "source": "epsilon = 1e-8\nabs(0.1 + 0.1 + 0.1 - 0.3) < epsilon",
      "execution_count": null,
      "outputs": []
    },
    {
      "metadata": {
        "trusted": true
      },
      "cell_type": "code",
      "source": "-epsilon < 0.1 + 0.1 + 0.1 -0.3 < epsilon",
      "execution_count": null,
      "outputs": []
    },
    {
      "metadata": {},
      "cell_type": "markdown",
      "source": "Achtung bei Potenzen: Eine Potenz wird in python mit `**` angegeben! Der Grund ist, dass das gebräuchliche ^ schon für das bitweise xor verwendet wurde."
    },
    {
      "metadata": {
        "trusted": true
      },
      "cell_type": "code",
      "source": "2**3",
      "execution_count": null,
      "outputs": []
    },
    {
      "metadata": {
        "trusted": true
      },
      "cell_type": "code",
      "source": "2^3",
      "execution_count": null,
      "outputs": []
    },
    {
      "metadata": {},
      "cell_type": "markdown",
      "source": "Der Grund für das obige Ergebnis ist:\n\n10 (binär): 2 (dezimal)<br>\n11 (binär): 3 (dezimal)<br>\n01 (binär): 1 (dezimal)\n\nDie führende 1 tritt in beiden Binärdarstellungen auf, sie fehlt deshalb im Ergebnis.\nDie zweite 1 tritt in der Binärdarstellung von 2 nicht auf, aber in der Binärdarstellung von 3. Deshalb gehört sie zum Ergebnis."
    },
    {
      "metadata": {},
      "cell_type": "markdown",
      "source": "# Aufgabe\n\nEine Minute besteht aus 60 Sekunden, eine Stunde aus 60 Minuten und ein Tag besteht aus 24 Stunden.\n\nWieviel Sekunden dauert ein Tag?"
    },
    {
      "metadata": {
        "trusted": true
      },
      "cell_type": "code",
      "source": "# Ihre Lösung beginnt hier:",
      "execution_count": null,
      "outputs": []
    },
    {
      "metadata": {},
      "cell_type": "markdown",
      "source": "# Aufgabe\n\nEin Kegel hat eine kreisförmige Grundfläche mit einem Radius von $r=5\\,\\mathrm{cm}$. Er ist $h=10\\,\\mathrm{cm}$ hoch.\n\nBerechnen Sie das Volumen des Kegels mit der Formel\n\n$$\n V = \\dfrac{\\pi\\,d^2}{4}\\,\\dfrac{h}{3}\n$$\n\nWenn Sie nicht näherungsweise mit $pi\\approx 3.141592653$ rechnen wollen, müssen Sie den Wert `pi` zunächst verfügbar machen. Dieser ist z.B. in der Bibliothem `math` vorhanden und kann von dort importiert werden. Tippen Sie dazu in die nächste Zeile:\n\n`from math import pi`"
    },
    {
      "metadata": {
        "trusted": true
      },
      "cell_type": "code",
      "source": "# Ihre Lösung beginnt hier:",
      "execution_count": null,
      "outputs": []
    },
    {
      "metadata": {},
      "cell_type": "markdown",
      "source": "# Aufgabe\n\nEin rechteckiges Grundstück hat eine Länge von $l=105\\,\\mathrm{m}$ und eine Breite von $b=85\\,\\mathrm{m}$.\n\nDer Grundstückspreis beträgt $152\\,\\frac{€}{m^2}$.\n\n- Berechnen Sie die Größe des Grundstücks in $\\mathrm{m}^2$.\n- Berechnen Sie den Kaufpreis in $€$.\n\nDie zugehörigen Formeln lauten:\n\n\\begin{align*}\n  A &= l\\,b,\\quad\\text{mit $A$: Fläche in $m^2$, $l$,$b$: Seitenlängen des Rechtecks in $m$}\\\\\n  K &= k\\,A,\\quad\\text{mit $K$: Kosten in $€$, $k$: Grundstückspreis in $€$ je $m^2$}\n\\end{align*}"
    },
    {
      "metadata": {
        "trusted": true
      },
      "cell_type": "code",
      "source": "# Ihre Lösung beginnt hier:",
      "execution_count": null,
      "outputs": []
    },
    {
      "metadata": {},
      "cell_type": "markdown",
      "source": "# Aufgabe\n\nÜberprüfen Sie, ob der Grundstückspreis $1356600.00€$ beträgt."
    },
    {
      "metadata": {
        "trusted": true
      },
      "cell_type": "code",
      "source": "# Ihre Lösung beginnt hier:",
      "execution_count": null,
      "outputs": []
    },
    {
      "metadata": {},
      "cell_type": "markdown",
      "source": "Um etwas tiefer in die Programmiersprache Python einzusteigen, empfiehlt sich die offizielle Dokumentation von Python. Sie ist unter\n\nhttps://docs.python.org/3/\n\nzu finden. Diese Dokumentation ist auf englisch verfasst. Es gibt ein deutschsprachiges Pythontutorial unter\n\nhttps://py-tutorial-de.readthedocs.io/de/python-3.3/index.html\n\nIn der Regel ist das englischprachige Tutorial aktueller."
    },
    {
      "metadata": {},
      "cell_type": "markdown",
      "source": "Sucht man unter google nach den Stichworten wie \"Python\", \"Tutorial\", \"Dokumentation\", so findet man sehr viele sehr gute Materialien."
    }
  ],
  "metadata": {
    "kernelspec": {
      "name": "python3",
      "display_name": "Python 3",
      "language": "python"
    },
    "language_info": {
      "mimetype": "text/x-python",
      "nbconvert_exporter": "python",
      "name": "python",
      "pygments_lexer": "ipython3",
      "version": "3.5.4",
      "file_extension": ".py",
      "codemirror_mode": {
        "version": 3,
        "name": "ipython"
      }
    }
  },
  "nbformat": 4,
  "nbformat_minor": 2
}