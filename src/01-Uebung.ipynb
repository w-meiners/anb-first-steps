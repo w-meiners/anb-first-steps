{
  "cells": [
    {
      "metadata": {},
      "cell_type": "markdown",
      "source": "# Aufgabe\n\nEine Wasserleitung CU 35$\\times$1.2 soll einen Volumenstrom von $\\dot V = 4.0\\,\\frac{\\mathrm{m}^3}{\\mathrm{h}}$ transportieren. \n\nZulässig ist eine Geschwindigkeit von $v = 1.0\\,\\frac{\\mathrm{m}}{\\mathrm{s}}$, bei höheren Geschwindigkeiten können Strömungsgeräusche auftreten.\n\n1. Berechnen Sie die Geschwindigkeit, die sich in dem Rohr einstellt.\n2. Welcher Durchmesser ist mindestens zu wählen, um die zugelassene Geschwindigkeit nicht zu überschreiten.\n\nRechnen Sie schrittweise und kommentieren Sie Ihre Lösung ausführlich."
    },
    {
      "metadata": {},
      "cell_type": "markdown",
      "source": "Die Zusammenhänge zwischen Volumenstrom, Durchmesser und Geschwindigkeit sind durch die folgenden Formeln gegeben:\n\n\\begin{align}\n  \\dot V &= A\\,v,\n  &\n  A &= \\dfrac{\\pi\\,d^2}{4}\n  \\\\\n  v &= \\dfrac{\\dot V}{A}\n  \\\\\n  A &= \\dfrac{\\dot V}{v},\n  &\n  d &= \\sqrt{\\dfrac{4\\,A}{\\pi}}\n\\end{align}"
    },
    {
      "metadata": {},
      "cell_type": "markdown",
      "source": "Das Modul `math` sollten Sie importieren. Das ist in der folgenden Zelle voreingestellt.\n\nSie finden die Zahl $\\pi$ als `math.pi`.\n\nDie Wurzel einer Zahl `x` können Sie als `math.sqrt(x)` berechnen."
    },
    {
      "metadata": {
        "trusted": true
      },
      "cell_type": "code",
      "source": "import math",
      "execution_count": null,
      "outputs": []
    },
    {
      "metadata": {
        "trusted": true
      },
      "cell_type": "code",
      "source": "# Ihre Lösung beginnt hier",
      "execution_count": null,
      "outputs": []
    }
  ],
  "metadata": {
    "kernelspec": {
      "name": "python36",
      "display_name": "Python 3.6",
      "language": "python"
    },
    "language_info": {
      "mimetype": "text/x-python",
      "nbconvert_exporter": "python",
      "name": "python",
      "pygments_lexer": "ipython3",
      "version": "3.6.6",
      "file_extension": ".py",
      "codemirror_mode": {
        "version": 3,
        "name": "ipython"
      }
    }
  },
  "nbformat": 4,
  "nbformat_minor": 1
}