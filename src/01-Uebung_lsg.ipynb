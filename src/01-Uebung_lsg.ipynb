{
 "cells": [
  {
   "cell_type": "markdown",
   "metadata": {},
   "source": [
    "# Aufgabe\n",
    "\n",
    "Eine Wasserleitung CU 35$\\times$1.2 soll einen Volumenstrom von $\\dot V = 4.0\\,\\frac{\\mathrm{m}^3}{\\mathrm{h}}$ transportieren. \n",
    "\n",
    "Zulässig ist eine Geschwindigkeit von $v = 1.0\\,\\frac{\\mathrm{m}}{\\mathrm{s}}$, bei höheren Geschwindigkeiten können Strömungsgeräusche auftreten.\n",
    "\n",
    "1. Berechnen Sie die Geschwindigkeit, die sich in dem Rohr einstellt.\n",
    "2. Welcher Durchmesser ist mindestens zu wählen, um die zugelassene Geschwindigkeit nicht zu überschreiten.\n",
    "\n",
    "Rechnen Sie schrittweise und kommentieren Sie Ihre Lösung ausführlich."
   ]
  },
  {
   "cell_type": "markdown",
   "metadata": {},
   "source": [
    "Die Zusammenhänge zwischen Volumenstrom, Durchmesser und Geschwindigkeit sind durch die folgenden Formeln gegeben:\n",
    "\n",
    "\\begin{align}\n",
    "  \\dot V &= A\\,v,\n",
    "  &\n",
    "  A &= \\dfrac{\\pi\\,d^2}{4}\n",
    "  \\\\\n",
    "  v &= \\dfrac{\\dot V}{A}\n",
    "  \\\\\n",
    "  A &= \\dfrac{\\dot V}{v},\n",
    "  &\n",
    "  d &= \\sqrt{\\dfrac{4\\,A}{\\pi}}\n",
    "\\end{align}"
   ]
  },
  {
   "cell_type": "markdown",
   "metadata": {},
   "source": [
    "Das Modul `math` sollten Sie importieren. Das ist in der folgenden Zelle voreingestellt.\n",
    "\n",
    "Sie finden die Zahl $\\pi$ als `math.pi`.\n",
    "\n",
    "Die Wurzel einer Zahl `x` können Sie als `math.sqrt(x)` berechnen."
   ]
  },
  {
   "cell_type": "code",
   "execution_count": 7,
   "metadata": {},
   "outputs": [],
   "source": [
    "import math"
   ]
  },
  {
   "cell_type": "markdown",
   "metadata": {},
   "source": [
    "1. Berechnen Sie die Geschwindigkeit, die sich in dem Rohr einstellt."
   ]
  },
  {
   "cell_type": "code",
   "execution_count": 8,
   "metadata": {},
   "outputs": [
    {
     "data": {
      "text/plain": [
       "0.0008346897521322724"
      ]
     },
     "execution_count": 8,
     "metadata": {},
     "output_type": "execute_result"
    }
   ],
   "source": [
    "# Ihre Lösung beginnt hier\n",
    "d = (35-2*1.2)*1e-3 # lichter Durchmesser in m\n",
    "\n",
    "A = math.pi*d**2/4 \n",
    "A # lichter Querschnitt in m**2"
   ]
  },
  {
   "cell_type": "code",
   "execution_count": 9,
   "metadata": {},
   "outputs": [
    {
     "data": {
      "text/plain": [
       "1.3311665900685872"
      ]
     },
     "execution_count": 9,
     "metadata": {},
     "output_type": "execute_result"
    }
   ],
   "source": [
    "dV_h = 4 # Volumenstrom in m**3/h\n",
    "\n",
    "v = dV_h/(3600*A)\n",
    "v # Geschwindigkeit in m/s"
   ]
  },
  {
   "cell_type": "markdown",
   "metadata": {},
   "source": [
    "Diese Geschwindigkeit ist zu hoch! Es muss ein größerer Querschnitt gewählt werden."
   ]
  },
  {
   "cell_type": "markdown",
   "metadata": {},
   "source": [
    "2. Welcher Durchmesser ist mindestens zu wählen, um die zugelassene Geschwindigkeit nicht zu überschreiten."
   ]
  },
  {
   "cell_type": "code",
   "execution_count": 10,
   "metadata": {},
   "outputs": [
    {
     "data": {
      "text/plain": [
       "37.61263890318375"
      ]
     },
     "execution_count": 10,
     "metadata": {},
     "output_type": "execute_result"
    }
   ],
   "source": [
    "v = 1 # Geschwindigkeit in m/s\n",
    "\n",
    "A = dV_h/(3600*v) # Querschnitt in m**2\n",
    "\n",
    "d = math.sqrt(4*A/math.pi)*1000\n",
    "d # Durchmesser in mm"
   ]
  },
  {
   "cell_type": "markdown",
   "metadata": {},
   "source": [
    "Es wird mindestens ein Durchmesser von $37.6\\,mm$ benötigt. Laut Tabellenbuch muss ein Querschnitt CU 42$\\times$1.5 gewählt werden. Die Geschwindigkeit ist dann:"
   ]
  },
  {
   "cell_type": "code",
   "execution_count": 11,
   "metadata": {},
   "outputs": [
    {
     "data": {
      "text/plain": [
       "0.001194590606527519"
      ]
     },
     "execution_count": 11,
     "metadata": {},
     "output_type": "execute_result"
    }
   ],
   "source": [
    "d = (42-2*1.5)*1e-3\n",
    "\n",
    "A = math.pi*d**2/4 \n",
    "A # lichter Querschnitt in m**2"
   ]
  },
  {
   "cell_type": "code",
   "execution_count": 12,
   "metadata": {},
   "outputs": [
    {
     "data": {
      "text/plain": [
       "0.9301187411316844"
      ]
     },
     "execution_count": 12,
     "metadata": {},
     "output_type": "execute_result"
    }
   ],
   "source": [
    "dV_h = 4 # Volumenstrom in m**3/h\n",
    "\n",
    "v = dV_h/(3600*A)\n",
    "v # Geschwindigkeit in m/s"
   ]
  },
  {
   "cell_type": "markdown",
   "metadata": {},
   "source": [
    "Die Geschwindigkeit ist nun mit $v = 0.93\\,\\frac{m}{s}$ zulässig."
   ]
  }
 ],
 "metadata": {
  "kernelspec": {
   "display_name": "python 3.6",
   "language": "python",
   "name": "python36"
  },
  "language_info": {
   "codemirror_mode": {
    "name": "ipython",
    "version": 3
   },
   "file_extension": ".py",
   "mimetype": "text/x-python",
   "name": "python",
   "nbconvert_exporter": "python",
   "pygments_lexer": "ipython3",
   "version": "3.6.8"
  }
 },
 "nbformat": 4,
 "nbformat_minor": 1
}
