{
 "cells": [
  {
   "cell_type": "markdown",
   "metadata": {},
   "source": [
    "# Listen"
   ]
  },
  {
   "cell_type": "markdown",
   "metadata": {},
   "source": [
    "In der Praxis sind Berechnungen häufig nicht nur für einen einzelnen Wert durchzuführen, sondern für mehrere gleichartige Werte. Als Beispiel kann eine Wohnung dienen, bei der der Abluftvolumenstrom für jeden einzelnen Abluftraum berechnet werden muss und verschiedene weitere Berechnungen davon ebenfalls betroffen sind."
   ]
  },
  {
   "cell_type": "markdown",
   "metadata": {},
   "source": [
    "Nehmen wir an, ein Bad ($45\\frac{m^3}{h}$), zwei WCs je ($25\\frac{m^3}{h}$), eine Abstellkammer ($25\\frac{m^3}{h}$) und ein Saunaraum ($100\\frac{m^3}{h}$) sollen mit Abluft versorgt werden. \n",
    "\n",
    "Dann wären die erforderlichen Berechnungen für jeden einzelnen Raum durchzuführen. Dazu werden Listen benutzt:\n",
    "\n",
    "`# Liste der Räume` <br>\n",
    "`raum = ['Bad','WC_1','WC_2','Abstellkammer', 'Saunaraum']`\n",
    "\n",
    "`# Liste der Abluftvolumenströme je Raum` <br>\n",
    "`dV_ab = [45,25,25,25,100]`\n"
   ]
  },
  {
   "cell_type": "markdown",
   "metadata": {},
   "source": [
    "Die Berechnungen können nun mit der Liste durchgeführt werden:\n",
    "\n",
    "`dV_ges_ab = sum(dV_ab)`"
   ]
  },
  {
   "cell_type": "markdown",
   "metadata": {},
   "source": [
    "## Beispiel\n",
    "\n",
    "Berechnen Sie für die oben gegebenen Werte den Gesamtvolumenstrom `dV_ges_ab` und ermitteln Sie, wieviel Prozent der Abluft in jeden Raum geführt wird.\n"
   ]
  },
  {
   "cell_type": "markdown",
   "metadata": {},
   "source": [
    "## Lösung\n",
    "\n",
    "Zunächst werden die Listen angelegt. \n",
    "\n",
    "Dann wird die Summe aller Listeneinträge gebildet und anschließend angezeigt:"
   ]
  },
  {
   "cell_type": "code",
   "execution_count": 1,
   "metadata": {},
   "outputs": [
    {
     "data": {
      "text/plain": [
       "220"
      ]
     },
     "execution_count": 1,
     "metadata": {},
     "output_type": "execute_result"
    }
   ],
   "source": [
    "raum = ['Bad','WC_1','WC_2','Abstellkammer', 'Saunaraum']\n",
    "\n",
    "dV_ab = [45,25,25,25,100]\n",
    "\n",
    "dV_ges_ab = sum(dV_ab)\n",
    "dV_ges_ab"
   ]
  },
  {
   "cell_type": "markdown",
   "metadata": {},
   "source": [
    "Für die Berechnung der Prozentzahlen muss eine neue Liste gebildet werden. Dazu wird oft eine `for`-Schleife verwendet.\n",
    "\n",
    "Der Lösungsweg sieht ist prinzipiell:\n",
    "\n",
    "```\n",
    "# neue Liste initialisieren\n",
    "neue_liste = []\n",
    "\n",
    "# Schleife für die Berechnung der neue Werte\n",
    "for wert in alte_liste:\n",
    "    neuer_wert = ...\n",
    "    neue_liste.append(neuer_wert)\n",
    "    \n",
    "# Ergebnis anzeigen\n",
    "neue_liste\n",
    "```"
   ]
  },
  {
   "cell_type": "code",
   "execution_count": 2,
   "metadata": {},
   "outputs": [
    {
     "data": {
      "text/plain": [
       "[20.454545454545457,\n",
       " 11.363636363636363,\n",
       " 11.363636363636363,\n",
       " 11.363636363636363,\n",
       " 45.45454545454545]"
      ]
     },
     "execution_count": 2,
     "metadata": {},
     "output_type": "execute_result"
    }
   ],
   "source": [
    "# leere Liste anlegen (initialisieren)\n",
    "dV_prozent = []\n",
    "\n",
    "# Schleife über alle Elemente von dV_ab\n",
    "for dV in dV_ab:\n",
    "    # Berechnung der Prozentzahl für dies dV\n",
    "    prozent = dV/dV_ges_ab * 100\n",
    "    # Erweiterung der Liste dV_prozent\n",
    "    # um den berechneten Wert\n",
    "    dV_prozent.append(prozent)\n",
    "    \n",
    "# Ergebnis anzeigen\n",
    "dV_prozent"
   ]
  },
  {
   "cell_type": "markdown",
   "metadata": {},
   "source": [
    "Häufig ist die Berechnungsvorschrift sehr einfach. Dann ist es einfacher, für die gleiche Berechnung eine *List Comprehension* zu verwenden:\n",
    "\n",
    "`neue_liste = [Berechnungs_vorschrift(wert) for wert in alte_liste]`\n",
    "\n",
    "Solche List Comprehensions sind oft leicht zu lesen. Sie können meist deutlich schneller berechnet werden, als eine `for`-Schleife."
   ]
  },
  {
   "cell_type": "code",
   "execution_count": 3,
   "metadata": {},
   "outputs": [
    {
     "data": {
      "text/plain": [
       "[20.454545454545457,\n",
       " 11.363636363636363,\n",
       " 11.363636363636363,\n",
       " 11.363636363636363,\n",
       " 45.45454545454545]"
      ]
     },
     "execution_count": 3,
     "metadata": {},
     "output_type": "execute_result"
    }
   ],
   "source": [
    "dV_prozent = [dV/dV_ges_ab * 100 for dV in dV_ab]\n",
    "dV_prozent"
   ]
  },
  {
   "cell_type": "markdown",
   "metadata": {},
   "source": [
    "Die Zahlenwerte der Liste `dV_prozent` müssen sich zu 100% aufsummieren:"
   ]
  },
  {
   "cell_type": "code",
   "execution_count": 4,
   "metadata": {},
   "outputs": [
    {
     "data": {
      "text/plain": [
       "100.0"
      ]
     },
     "execution_count": 4,
     "metadata": {},
     "output_type": "execute_result"
    }
   ],
   "source": [
    "sum(dV_prozent)"
   ]
  },
  {
   "cell_type": "markdown",
   "metadata": {},
   "source": [
    "Zur Anzeige wird oft der sogenannte Reißverschluss (englisch zipper) verwendet. Dazu dient die Funktion \n",
    "\n",
    "`zip(liste_1, liste_2, ...)`"
   ]
  },
  {
   "cell_type": "code",
   "execution_count": 5,
   "metadata": {},
   "outputs": [
    {
     "data": {
      "text/plain": [
       "[('Bad', 20.454545454545457),\n",
       " ('WC_1', 11.363636363636363),\n",
       " ('WC_2', 11.363636363636363),\n",
       " ('Abstellkammer', 11.363636363636363),\n",
       " ('Saunaraum', 45.45454545454545)]"
      ]
     },
     "execution_count": 5,
     "metadata": {},
     "output_type": "execute_result"
    }
   ],
   "source": [
    "list(zip(raum,dV_prozent)) # prozentuale Verteilung der Abluft auf die Räume"
   ]
  },
  {
   "cell_type": "markdown",
   "metadata": {},
   "source": [
    "## Aufgabe \n",
    "\n",
    "Berechnen Sie die Liste der erforderlichen Anschlussdurchmesser `d_erf # in mm` nach der Formel aus den gegebenen Abluftvolumenströmen in der Liste `dV_ab # in m**3/h`.\n",
    "\n",
    "$$\n",
    "  d = \\sqrt{\\dfrac{4\\,\\dot V}{\\pi\\,v}}\n",
    "$$\n",
    "\n",
    "für jeden Abluftraum. Gehen Sie dabei von einer zulässigen Strömungsgeschwindigkeit `v=2 # m/s` in den Lüftungsrohren aus.\n",
    "\n",
    "Achtung: Vergessen Sie die Einheitenumrechnung von $1h = 3600\\,s$ und $1m=1000\\,mm$ nicht!"
   ]
  },
  {
   "cell_type": "code",
   "execution_count": 6,
   "metadata": {},
   "outputs": [],
   "source": [
    "import math\n",
    "v = 2 # m/s"
   ]
  },
  {
   "cell_type": "code",
   "execution_count": 7,
   "metadata": {},
   "outputs": [],
   "source": [
    "# Ihre Lösung beginnt hier"
   ]
  },
  {
   "cell_type": "markdown",
   "metadata": {},
   "source": [
    "## Aufgabe\n",
    "\n",
    "Sie können selbstgeschriebene Funktionen verwenden, um den Aufbau einer List Comprehension einfach zu halten.\n",
    "\n",
    "Im folgenden habe ich im Modul `utilities.py` eine Funktion `ermittle_normdurchmesser(d)` angegeben, die zu einem vorgegebenen Durchmesser `d` in mm den nächstgrößeren Normdurchmesser ermittelt. Dabei ist die Liste der Normdurchmesser von einem Hersteller übernommen worden, siehe\n",
    "\n",
    "https://www.msl-bauartikel.de/fileadmin/user_upload/produktbilder/Rohrsysteme/Lueftungsrohr/System_Lueftungsrohrde_eng_.pdf"
   ]
  },
  {
   "cell_type": "markdown",
   "metadata": {},
   "source": [
    "Damit ergibt sich z.B. für `d=87 # mm`\n",
    "\n",
    "`ermittle_normdurchmesser(d)` <br>\n",
    "`90`"
   ]
  },
  {
   "cell_type": "markdown",
   "metadata": {},
   "source": [
    "Benutzen Sie die Durchmesser, die Sie in der vorigen Aufgabe berechnet haben, um die zugehörigen Normdurchmesser zu ermitteln. Verwenden Sie für die Berechnung eine List Comprehension."
   ]
  },
  {
   "cell_type": "code",
   "execution_count": 8,
   "metadata": {},
   "outputs": [
    {
     "data": {
      "text/plain": [
       "90"
      ]
     },
     "execution_count": 8,
     "metadata": {},
     "output_type": "execute_result"
    }
   ],
   "source": [
    "from utilities import ermittle_normdurchmesser\n",
    "\n",
    "# Anwendungsbeispiel\n",
    "ermittle_normdurchmesser(87)"
   ]
  },
  {
   "cell_type": "code",
   "execution_count": 9,
   "metadata": {},
   "outputs": [],
   "source": [
    "# Ihre Lösung beginnt hier."
   ]
  },
  {
   "cell_type": "markdown",
   "metadata": {},
   "source": [
    "## Aufgabe\n",
    "\n",
    "\n",
    "Die Liste der Normdurchmesser und der Wandstärken von Lüftungsrohren läßt sich folgendermaßen angeben:"
   ]
  },
  {
   "cell_type": "code",
   "execution_count": 10,
   "metadata": {},
   "outputs": [],
   "source": [
    "normdurchmesser = [\n",
    "    80,90,100,112,125,140,\n",
    "    150,160,180,200,224,250,\n",
    "    280,300,315,355,400,450,\n",
    "    500,560,600,630,710,800,\n",
    "    900,1000,1120,1250,1400,\n",
    "    1600,1800,2000\n",
    "]\n",
    "\n",
    "# Um hier nicht 32 Werte von Hand eintragen zu müssen:\n",
    "wandstaerken=2*[0.4]+12*[0.6]+7*[0.8]+4*[1.0]+3*[1.2]+4*[1.5]"
   ]
  },
  {
   "cell_type": "code",
   "execution_count": 11,
   "metadata": {},
   "outputs": [],
   "source": [
    "# Das Ergebnis können Sie sich anzeigen lassen, \n",
    "# wenn Sie vor der nächsten Zeile das Kommentarzeichen entfernen\n",
    "#list(zip(normdurchmesser,wandstaerken))"
   ]
  },
  {
   "cell_type": "markdown",
   "metadata": {},
   "source": [
    "Berechnen Sie das Gewicht je Meter Lüftungsrohr aus Wickelfalzrohr. Die Dichte von Stahl ist\n",
    "$\\varrho=7.85\\,\\frac{kg}{dm^3}$\n",
    "\n",
    "Die Masse berechnet sich nach der Formel\n",
    "\n",
    "$$\n",
    "  m = \\varrho\\,V\n",
    "$$\n",
    "\n",
    "mit dem Volumen\n",
    "\n",
    "\\begin{align}\n",
    "  V &= \\dfrac{\\pi \\left(d_a^2 - d_i^2\\right)}{4}\\,\\ell \\\\[2ex]\n",
    "    &= \\pi\\,d_m\\,s\\,\\ell\n",
    "\\end{align}\n",
    "\n",
    "Verwenden Sie eine `for`-Schleife für die Berechnung."
   ]
  },
  {
   "cell_type": "code",
   "execution_count": 12,
   "metadata": {},
   "outputs": [],
   "source": [
    "# Ihre Lösung beginnt hier"
   ]
  }
 ],
 "metadata": {
  "kernelspec": {
   "display_name": "python 3.6",
   "language": "python",
   "name": "python36"
  },
  "language_info": {
   "codemirror_mode": {
    "name": "ipython",
    "version": 3
   },
   "file_extension": ".py",
   "mimetype": "text/x-python",
   "name": "python",
   "nbconvert_exporter": "python",
   "pygments_lexer": "ipython3",
   "version": "3.6.8"
  }
 },
 "nbformat": 4,
 "nbformat_minor": 2
}
