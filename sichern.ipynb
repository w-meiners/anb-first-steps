{
 "cells": [
  {
   "cell_type": "code",
   "execution_count": null,
   "metadata": {
    "scrolled": true
   },
   "outputs": [],
   "source": [
    "%autosave 3600\n",
    "from sichern import copy_files_to_destination\n",
    "\n",
    "copy_files_to_destination(\n",
    "    'src/01-Erstes_Beispiel.ipynb',\n",
    "    'src/01-Erstes_Beispiel_lsg.ipynb',\n",
    "    'src/01-Uebung.ipynb',\n",
    "    'src/01-Uebung_lsg.ipynb',\n",
    "    'src/02-Python_als_Taschenrechner.ipynb',\n",
    "    'src/02-Python_als_Taschenrechner_lsg.ipynb',\n",
    "    'src/03-Variablen.ipynb',\n",
    "    'src/03-Variablen_lsg.ipynb',\n",
    "    'src/04-Listen.ipynb',\n",
    "    'src/04-Listen_lsg.ipynb',\n",
    "    'src/05-Uebung.ipynb',\n",
    "    'src/05-Uebung_lsg.ipynb',\n",
    "    'src/utilities.py',\n",
    "    dest='bearbeitet'\n",
    ")"
   ]
  }
 ],
 "metadata": {
  "kernelspec": {
   "display_name": "python 3.6",
   "language": "python",
   "name": "python36"
  },
  "language_info": {
   "codemirror_mode": {
    "name": "ipython",
    "version": 3
   },
   "file_extension": ".py",
   "mimetype": "text/x-python",
   "name": "python",
   "nbconvert_exporter": "python",
   "pygments_lexer": "ipython3",
   "version": "3.6.8"
  }
 },
 "nbformat": 4,
 "nbformat_minor": 1
}
