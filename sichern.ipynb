{
  "cells": [
    {
      "metadata": {
        "trusted": true
      },
      "cell_type": "code",
      "source": "%autosave 3600\nfrom sichern import copy_files_to_destination\n\ncopy_files_to_destination(\n    'src/01-Erstes_Beispiel.ipynb',\n    'src/01-Erstes_Beispiel_lsg.ipynb',\n    dest='bearbeitet'\n)",
      "execution_count": null,
      "outputs": []
    }
  ],
  "metadata": {
    "kernelspec": {
      "name": "python36",
      "display_name": "Python 3.6",
      "language": "python"
    }
  },
  "nbformat": 4,
  "nbformat_minor": 1
}