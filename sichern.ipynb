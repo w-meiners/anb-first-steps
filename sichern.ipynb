{
  "cells": [
    {
      "metadata": {
        "trusted": true
      },
      "cell_type": "code",
      "source": "%autosave 3600\nfrom sichern import copy_files_to_destination\n\ncopy_files_to_destination(\n    #'src/01-Erstes_Beispiel.ipynb',\n    #'src/01-Erstes_Beispiel_lsg.ipynb',\n    #'src/01-Uebung.ipynb',\n    'src/02-Python_als_Taschenrechner.ipynb',\n    'src/02-Python_als_Taschenrechner_lsg.ipynb',\n    dest='bearbeitet'\n)",
      "execution_count": null,
      "outputs": []
    }
  ],
  "metadata": {
    "kernelspec": {
      "name": "python36",
      "display_name": "Python 3.6",
      "language": "python"
    },
    "language_info": {
      "mimetype": "text/x-python",
      "nbconvert_exporter": "python",
      "name": "python",
      "pygments_lexer": "ipython3",
      "version": "3.6.6",
      "file_extension": ".py",
      "codemirror_mode": {
        "version": 3,
        "name": "ipython"
      }
    }
  },
  "nbformat": 4,
  "nbformat_minor": 1
}