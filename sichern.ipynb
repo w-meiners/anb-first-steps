{
  "cells": [
    {
      "metadata": {
        "trusted": true
      },
      "cell_type": "code",
      "source": "%%bash\ndir=bearbeitet\nif [ ! -d $dir ]; then\n  mkdir $dir\nelse\n  echo Der Pfad \\\"$dir\\\" existiert bereits\nfi\n\nfile=01-Erstes_Beispiel.ipynb\nif [ ! -f $dir/$file ]; then\n  cp src/$file $dir\nelse\n  echo Die Datei \\\"$dir/01-Erstes_Beispiel.ipynb\\\" existiert bereits\nfi\n\nfile=01-Erstes_Beispiel_lsg.ipynb\nif [ ! -f $dir/$file ]; then\n  cp src/$file $dir\nelse\n  echo Die Datei \\\"$dir/01-Erstes_Beispiel.ipynb\\\" existiert bereits\nfi",
      "execution_count": null,
      "outputs": []
    }
  ],
  "metadata": {
    "kernelspec": {
      "name": "python36",
      "display_name": "Python 3.6",
      "language": "python"
    },
    "language_info": {
      "mimetype": "text/x-python",
      "nbconvert_exporter": "python",
      "name": "python",
      "pygments_lexer": "ipython3",
      "version": "3.6.6",
      "file_extension": ".py",
      "codemirror_mode": {
        "version": 3,
        "name": "ipython"
      }
    }
  },
  "nbformat": 4,
  "nbformat_minor": 1
}