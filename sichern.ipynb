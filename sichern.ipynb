{
 "cells": [
  {
   "cell_type": "code",
   "execution_count": 7,
   "metadata": {},
   "outputs": [],
   "source": [
    "def copy_files_to_destination(*src,dest='.',create_dest=True,follow_symlinks=True):\n",
    "    ''' copy files to dest where\n",
    "        *src is the list of files\n",
    "        dest is a directory\n",
    "    '''\n",
    "    import os, shutil as su\n",
    "    if not os.path.isdir(dest):\n",
    "        if not create_dest:\n",
    "            raise Exception(f\"Pfad '{dest}' existiert nicht\")\n",
    "        try:\n",
    "            os.mkdir(dest)\n",
    "            print(f\"Pfad '{dest}' angelegt\")\n",
    "        except:\n",
    "            raise Exception(f\"Pfad '{dest}' konnte nicht angelegt werden\")\n",
    "        \n",
    "    missing_files_list = []\n",
    "    existing_dest_files_list = []\n",
    "    for s in src:\n",
    "        if not os.path.isfile(s):\n",
    "            missing_files_list.append(s)\n",
    "        else:\n",
    "            if os.path.exists(os.path.join(dest,os.path.basename(s))):\n",
    "                existing_dest_files_list.append(os.path.join(dest,os.path.basename(s)))\n",
    "            else:\n",
    "                su.copy(s,dest,follow_symlinks=follow_symlinks)\n",
    "                print(f\"Datei '{s}' nach '{dest}' kopiert\")\n",
    "    \n",
    "    for s in missing_files_list:\n",
    "        print(f\"Datei '{s}' wurde nicht gefunden\")\n",
    "        \n",
    "    print()\n",
    "        \n",
    "    for s in existing_dest_files_list:\n",
    "        print(f\"Datei '{s}' existiert bereits\")"
   ]
  },
  {
   "cell_type": "code",
   "execution_count": 11,
   "metadata": {},
   "outputs": [
    {
     "name": "stdout",
     "output_type": "stream",
     "text": [
      "Pfad 'bearbeitet' angelegt\n",
      "Datei 'src/01-Erstes_Beispiel.ipynb' nach 'bearbeitet' kopiert\n",
      "Datei 'src/01-Erstes_Beispiel_lsg.ipynb' nach 'bearbeitet' kopiert\n",
      "\n"
     ]
    }
   ],
   "source": [
    "copy_files_to_destination(\n",
    "    'src/01-Erstes_Beispiel.ipynb',\n",
    "    'src/01-Erstes_Beispiel_lsg.ipynb',\n",
    "    dest='bearbeitet',\n",
    "    #create_dest=False\n",
    ")"
   ]
  }
 ],
 "metadata": {
  "kernelspec": {
   "display_name": "Python 3",
   "language": "python",
   "name": "python3"
  },
  "language_info": {
   "codemirror_mode": {
    "name": "ipython",
    "version": 3
   },
   "file_extension": ".py",
   "mimetype": "text/x-python",
   "name": "python",
   "nbconvert_exporter": "python",
   "pygments_lexer": "ipython3",
   "version": "3.7.2"
  }
 },
 "nbformat": 4,
 "nbformat_minor": 1
}
