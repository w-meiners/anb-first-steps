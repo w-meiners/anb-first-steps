<<<<<<< HEAD
{
 "cells": [
  {
   "cell_type": "code",
   "execution_count": null,
   "metadata": {},
   "outputs": [],
   "source": [
    "%autosave 3600\n",
    "from sichern import copy_files_to_destination\n",
    "\n",
    "copy_files_to_destination(\n",
    "    #'src/01-Erstes_Beispiel.ipynb',\n",
    "    #'src/01-Erstes_Beispiel_lsg.ipynb',\n",
    "    'src/02-Python_als_Taschenrechner.ipynb',\n",
    "    'src/02-Python_als_Taschenrechner_lsg.ipynb',\n",
    "    dest='bearbeitet'\n",
    ")"
   ]
  }
 ],
 "metadata": {
  "kernelspec": {
   "display_name": "Python 3",
   "language": "python",
   "name": "python3"
  },
  "language_info": {
   "codemirror_mode": {
    "name": "ipython",
    "version": 3
   },
   "file_extension": ".py",
   "mimetype": "text/x-python",
   "name": "python",
   "nbconvert_exporter": "python",
   "pygments_lexer": "ipython3",
   "version": "3.7.2"
  }
 },
 "nbformat": 4,
 "nbformat_minor": 1
}
=======
{
  "cells": [
    {
      "metadata": {
        "trusted": true
      },
      "cell_type": "code",
      "source": "%autosave 3600\nfrom sichern import copy_files_to_destination\n\ncopy_files_to_destination(\n    'src/01-Erstes_Beispiel.ipynb',\n    'src/01-Erstes_Beispiel_lsg.ipynb',\n    dest='bearbeitet'\n)",
      "execution_count": null,
      "outputs": []
    }
  ],
  "metadata": {
    "kernelspec": {
      "name": "python36",
      "display_name": "Python 3.6",
      "language": "python"
    }
  },
  "nbformat": 4,
  "nbformat_minor": 1
}
>>>>>>> master
